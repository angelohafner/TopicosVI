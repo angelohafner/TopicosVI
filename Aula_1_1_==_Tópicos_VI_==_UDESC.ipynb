{
  "nbformat": 4,
  "nbformat_minor": 0,
  "metadata": {
    "colab": {
      "name": "Aula 1.1 == Tópicos VI == UDESC.ipynb",
      "provenance": [],
      "collapsed_sections": []
    },
    "kernelspec": {
      "name": "python3",
      "display_name": "Python 3"
    },
    "language_info": {
      "name": "python"
    }
  },
  "cells": [
    {
      "cell_type": "markdown",
      "source": [
        "# Derivadas"
      ],
      "metadata": {
        "id": "f1c84gpPkKGW"
      }
    },
    {
      "cell_type": "code",
      "source": [
        "import sympy as sp"
      ],
      "metadata": {
        "id": "440snNJ4kNyD"
      },
      "execution_count": null,
      "outputs": []
    },
    {
      "cell_type": "code",
      "source": [
        "x = sp.Symbol('x')\n",
        "x"
      ],
      "metadata": {
        "colab": {
          "base_uri": "https://localhost:8080/",
          "height": 38
        },
        "id": "SELjAfwAkkzp",
        "outputId": "6709eda6-c413-4c9e-b96c-da897aac1b77"
      },
      "execution_count": null,
      "outputs": [
        {
          "output_type": "execute_result",
          "data": {
            "text/plain": [
              "x"
            ],
            "text/latex": "$\\displaystyle x$"
          },
          "metadata": {},
          "execution_count": 84
        }
      ]
    },
    {
      "cell_type": "code",
      "source": [
        "y = x**5 + sp.sin(x)\n",
        "y"
      ],
      "metadata": {
        "colab": {
          "base_uri": "https://localhost:8080/",
          "height": 38
        },
        "id": "QafZMBmwk43J",
        "outputId": "9c5ba315-827c-47b1-e170-1c95fcb071b5"
      },
      "execution_count": null,
      "outputs": [
        {
          "output_type": "execute_result",
          "data": {
            "text/plain": [
              "x**5 + sin(x)"
            ],
            "text/latex": "$\\displaystyle x^{5} + \\sin{\\left(x \\right)}$"
          },
          "metadata": {},
          "execution_count": 85
        }
      ]
    },
    {
      "cell_type": "code",
      "source": [
        "derv1 = y.diff(x)\n",
        "derv1"
      ],
      "metadata": {
        "colab": {
          "base_uri": "https://localhost:8080/",
          "height": 38
        },
        "id": "gf4LrFOrk5hN",
        "outputId": "874bd254-a00c-44af-97a6-a05580fb280e"
      },
      "execution_count": null,
      "outputs": [
        {
          "output_type": "execute_result",
          "data": {
            "text/plain": [
              "5*x**4 + cos(x)"
            ],
            "text/latex": "$\\displaystyle 5 x^{4} + \\cos{\\left(x \\right)}$"
          },
          "metadata": {},
          "execution_count": 86
        }
      ]
    },
    {
      "cell_type": "code",
      "source": [
        "DERIV1 = sp.diff(y, x)\n",
        "DERIV1"
      ],
      "metadata": {
        "colab": {
          "base_uri": "https://localhost:8080/",
          "height": 38
        },
        "id": "TDQKOAynmhcb",
        "outputId": "7d0a7860-7cc0-4730-8695-bf43883f1151"
      },
      "execution_count": null,
      "outputs": [
        {
          "output_type": "execute_result",
          "data": {
            "text/plain": [
              "5*x**4 + cos(x)"
            ],
            "text/latex": "$\\displaystyle 5 x^{4} + \\cos{\\left(x \\right)}$"
          },
          "metadata": {},
          "execution_count": 87
        }
      ]
    },
    {
      "cell_type": "code",
      "source": [
        "DERIV4 = sp.diff(y, x, x, x, x)\n",
        "DERIV4"
      ],
      "metadata": {
        "colab": {
          "base_uri": "https://localhost:8080/",
          "height": 38
        },
        "id": "8Ue8sUVnnXX9",
        "outputId": "8dcef930-f4b0-4a98-d90e-2e904e9619f3"
      },
      "execution_count": null,
      "outputs": [
        {
          "output_type": "execute_result",
          "data": {
            "text/plain": [
              "120*x + sin(x)"
            ],
            "text/latex": "$\\displaystyle 120 x + \\sin{\\left(x \\right)}$"
          },
          "metadata": {},
          "execution_count": 88
        }
      ]
    },
    {
      "cell_type": "markdown",
      "source": [
        "# Integrais"
      ],
      "metadata": {
        "id": "_fMevLuIoYq9"
      }
    },
    {
      "cell_type": "code",
      "source": [
        "INT1 = sp.integrate(5*x**4+sp.cos(x), x)\n",
        "INT1"
      ],
      "metadata": {
        "colab": {
          "base_uri": "https://localhost:8080/",
          "height": 38
        },
        "id": "BPrhfEjQoXEk",
        "outputId": "fe81a2a8-6f63-4b9d-de58-c4aea9ee04a0"
      },
      "execution_count": null,
      "outputs": [
        {
          "output_type": "execute_result",
          "data": {
            "text/plain": [
              "x**5 + sin(x)"
            ],
            "text/latex": "$\\displaystyle x^{5} + \\sin{\\left(x \\right)}$"
          },
          "metadata": {},
          "execution_count": 89
        }
      ]
    },
    {
      "cell_type": "code",
      "source": [
        "INT2 = sp.integrate(5*x**4+sp.cos(x), x, x)\n",
        "INT2"
      ],
      "metadata": {
        "colab": {
          "base_uri": "https://localhost:8080/",
          "height": 54
        },
        "id": "RYUMpv8Oo4dN",
        "outputId": "cb8cf2fd-da4e-4fcb-e915-8789010a3a45"
      },
      "execution_count": null,
      "outputs": [
        {
          "output_type": "execute_result",
          "data": {
            "text/plain": [
              "x**6/6 - cos(x)"
            ],
            "text/latex": "$\\displaystyle \\frac{x^{6}}{6} - \\cos{\\left(x \\right)}$"
          },
          "metadata": {},
          "execution_count": 90
        }
      ]
    }
  ]
}