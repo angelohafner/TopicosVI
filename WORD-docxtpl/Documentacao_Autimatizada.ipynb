{
  "nbformat": 4,
  "nbformat_minor": 0,
  "metadata": {
    "colab": {
      "provenance": [],
      "collapsed_sections": []
    },
    "kernelspec": {
      "name": "python3",
      "display_name": "Python 3"
    },
    "language_info": {
      "name": "python"
    }
  },
  "cells": [
    {
      "cell_type": "code",
      "source": [
        "!pip install docxtpl\n",
        "!pip install engineering_notation"
      ],
      "metadata": {
        "colab": {
          "base_uri": "https://localhost:8080/"
        },
        "id": "MHGIzx-54Jhw",
        "outputId": "598e1a6b-7a0c-4c4c-de65-cae53f6e1aac"
      },
      "execution_count": null,
      "outputs": [
        {
          "output_type": "stream",
          "name": "stdout",
          "text": [
            "Looking in indexes: https://pypi.org/simple, https://us-python.pkg.dev/colab-wheels/public/simple/\n",
            "Requirement already satisfied: docxtpl in /usr/local/lib/python3.7/dist-packages (0.16.4)\n",
            "Requirement already satisfied: six in /usr/local/lib/python3.7/dist-packages (from docxtpl) (1.15.0)\n",
            "Requirement already satisfied: lxml in /usr/local/lib/python3.7/dist-packages (from docxtpl) (4.9.1)\n",
            "Requirement already satisfied: python-docx in /usr/local/lib/python3.7/dist-packages (from docxtpl) (0.8.11)\n",
            "Requirement already satisfied: docxcompose in /usr/local/lib/python3.7/dist-packages (from docxtpl) (1.3.5)\n",
            "Requirement already satisfied: jinja2 in /usr/local/lib/python3.7/dist-packages (from docxtpl) (2.11.3)\n",
            "Requirement already satisfied: setuptools in /usr/local/lib/python3.7/dist-packages (from docxcompose->docxtpl) (57.4.0)\n",
            "Requirement already satisfied: MarkupSafe>=0.23 in /usr/local/lib/python3.7/dist-packages (from jinja2->docxtpl) (2.0.1)\n",
            "Looking in indexes: https://pypi.org/simple, https://us-python.pkg.dev/colab-wheels/public/simple/\n",
            "Requirement already satisfied: engineering_notation in /usr/local/lib/python3.7/dist-packages (0.6.0)\n"
          ]
        }
      ]
    },
    {
      "cell_type": "code",
      "execution_count": null,
      "metadata": {
        "id": "2iMtZxQP4CCf"
      },
      "outputs": [],
      "source": [
        "import numpy as np\n",
        "import pandas as pd\n",
        "import matplotlib.pyplot as plt\n",
        "from docxtpl import DocxTemplate, InlineImage\n",
        "from engineering_notation import EngNumber\n",
        "from docx.shared import Mm"
      ]
    },
    {
      "cell_type": "code",
      "source": [
        "doc = DocxTemplate('Doc1.docx')\n",
        "doc"
      ],
      "metadata": {
        "colab": {
          "base_uri": "https://localhost:8080/"
        },
        "id": "DF7ca9Eh4ECf",
        "outputId": "5b104141-a339-40b3-93aa-ca576fc398c5"
      },
      "execution_count": null,
      "outputs": [
        {
          "output_type": "execute_result",
          "data": {
            "text/plain": [
              "<docxtpl.template.DocxTemplate at 0x7fcbc4e67090>"
            ]
          },
          "metadata": {},
          "execution_count": 37
        }
      ]
    },
    {
      "cell_type": "code",
      "source": [
        "t = 2"
      ],
      "metadata": {
        "id": "JpGUXYPt41Zx"
      },
      "execution_count": null,
      "outputs": []
    },
    {
      "cell_type": "code",
      "source": [
        "x = np.linspace(-4, 4, 20)\n",
        "fig = plt.figure(dpi=200, figsize=(2.5, 1.5))\n",
        "plt.plot(x, x**2)"
      ],
      "metadata": {
        "colab": {
          "base_uri": "https://localhost:8080/",
          "height": 348
        },
        "id": "r2zMtDxp8P6t",
        "outputId": "b5dff0e4-0aab-4e05-f759-2331262bec62"
      },
      "execution_count": null,
      "outputs": [
        {
          "output_type": "execute_result",
          "data": {
            "text/plain": [
              "[<matplotlib.lines.Line2D at 0x7fcbc4ed3290>]"
            ]
          },
          "metadata": {},
          "execution_count": 39
        },
        {
          "output_type": "display_data",
          "data": {
            "text/plain": [
              "<Figure size 500x300 with 1 Axes>"
            ],
            "image/png": "[encoded data removed]"
          },
          "metadata": {
            "needs_background": "light"
          }
        }
      ]
    },
    {
      "cell_type": "code",
      "source": [
        "fig.savefig(\"Grafico\", dpi=200, bbox_inches='tight')"
      ],
      "metadata": {
        "id": "cUESrvjE81hY"
      },
      "execution_count": null,
      "outputs": []
    },
    {
      "cell_type": "code",
      "source": [],
      "metadata": {
        "id": "ateVTv0z90R6"
      },
      "execution_count": null,
      "outputs": []
    },
    {
      "cell_type": "code",
      "source": [
        "context0 = {'x': t}\n",
        "imagem = InlineImage(doc, 'Apresentação1.png', width=Mm(100))   \n",
        "context1 = {'figura1': imagem}\n",
        "context0.update(context1)\n",
        "imagem = InlineImage(doc, 'Grafico.png', width=Mm(100))   \n",
        "context2 = {'figura2': imagem}\n",
        "context0.update(context2)"
      ],
      "metadata": {
        "id": "ZvLHvGeH4zyE"
      },
      "execution_count": null,
      "outputs": []
    },
    {
      "cell_type": "code",
      "source": [],
      "metadata": {
        "id": "JVdDlSPo8OzX"
      },
      "execution_count": null,
      "outputs": []
    },
    {
      "cell_type": "code",
      "source": [
        "doc.render(context0)"
      ],
      "metadata": {
        "id": "sJY2gJ4A5qIj"
      },
      "execution_count": null,
      "outputs": []
    },
    {
      "cell_type": "code",
      "source": [
        "doc.save('Doc1_saida.docx')"
      ],
      "metadata": {
        "id": "Eq1iHRcY5eof"
      },
      "execution_count": null,
      "outputs": []
    }
  ]
}