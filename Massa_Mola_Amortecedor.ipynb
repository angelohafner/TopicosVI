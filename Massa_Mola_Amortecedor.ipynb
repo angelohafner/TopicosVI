{
  "nbformat": 4,
  "nbformat_minor": 0,
  "metadata": {
    "colab": {
      "name": "Massa-Mola-Amortecedor.ipynb",
      "provenance": []
    },
    "kernelspec": {
      "name": "python3",
      "display_name": "Python 3"
    },
    "language_info": {
      "name": "python"
    }
  },
  "cells": [
    {
      "cell_type": "markdown",
      "metadata": {
        "id": "NCRrswosJZ9m"
      },
      "source": [
        "# Massa - Mola - Amortecedor\n"
      ]
    },
    {
      "cell_type": "code",
      "metadata": {
        "id": "yyhrV4XfAvMZ"
      },
      "source": [
        "import sympy as sp\n",
        "import matplotlib.pyplot as plt\n",
        "import numpy as np"
      ],
      "execution_count": null,
      "outputs": []
    },
    {
      "cell_type": "code",
      "metadata": {
        "colab": {
          "base_uri": "https://localhost:8080/",
          "height": 38
        },
        "id": "o9Od1MIwBBjZ",
        "outputId": "37059856-bf59-4fbf-eddc-af64c40da0f2"
      },
      "source": [
        "t = sp.symbols('t')\n",
        "t"
      ],
      "execution_count": null,
      "outputs": [
        {
          "output_type": "execute_result",
          "data": {
            "text/latex": "$\\displaystyle t$",
            "text/plain": [
              "t"
            ]
          },
          "metadata": {},
          "execution_count": 251
        }
      ]
    },
    {
      "cell_type": "code",
      "metadata": {
        "colab": {
          "base_uri": "https://localhost:8080/",
          "height": 38
        },
        "id": "q89J5ecOByp4",
        "outputId": "84f5e1db-99ee-4c0d-dba5-755d30c2931b"
      },
      "source": [
        "x = sp.Function('x')(t)\n",
        "x"
      ],
      "execution_count": null,
      "outputs": [
        {
          "output_type": "execute_result",
          "data": {
            "text/latex": "$\\displaystyle x{\\left(t \\right)}$",
            "text/plain": [
              "x(t)"
            ]
          },
          "metadata": {},
          "execution_count": 252
        }
      ]
    },
    {
      "cell_type": "markdown",
      "metadata": {
        "id": "1rwJMQd2JmIE"
      },
      "source": [
        "Forma como consegui tornar os números simbólicos.\n",
        "Se encontrar outra mais fácil me avisem..."
      ]
    },
    {
      "cell_type": "code",
      "metadata": {
        "id": "_3KrsJ0ZCO_f"
      },
      "source": [
        "m1 = sp.Rational(10,1)\n",
        "b1 = sp.Rational(2,1)\n",
        "k1 = sp.Rational(5,1)"
      ],
      "execution_count": null,
      "outputs": []
    },
    {
      "cell_type": "markdown",
      "metadata": {
        "id": "fOAe_fM8JwT0"
      },
      "source": [
        "Condições iniciais"
      ]
    },
    {
      "cell_type": "code",
      "metadata": {
        "colab": {
          "base_uri": "https://localhost:8080/"
        },
        "id": "Ugg5WEBaDlZF",
        "outputId": "1137609c-fd85-47a9-f591-36caf8b21298"
      },
      "source": [
        "cis= {x.subs(t, 0): 10, x.diff(t).subs(t, 0): 5}\n",
        "cis"
      ],
      "execution_count": null,
      "outputs": [
        {
          "output_type": "execute_result",
          "data": {
            "text/plain": [
              "{Subs(Derivative(x(t), t), t, 0): 5, x(0): 10}"
            ]
          },
          "metadata": {},
          "execution_count": 254
        }
      ]
    },
    {
      "cell_type": "markdown",
      "metadata": {
        "id": "WYnnImqEJ1xr"
      },
      "source": [
        "Definindo a EDO\n",
        "\n",
        "$$m x{\\left(t \\right)} + b \\frac{d}{d t} x{\\left(t \\right)} + k \\frac{d^{2}}{d t^{2}} x{\\left(t \\right)} = 0 $$"
      ]
    },
    {
      "cell_type": "code",
      "metadata": {
        "colab": {
          "base_uri": "https://localhost:8080/",
          "height": 54
        },
        "id": "BKAqK7ZYB4KY",
        "outputId": "0141fb10-e5c9-41ef-e1d3-8a25ddf9f5b6"
      },
      "source": [
        "edo = sp.Eq(m1*x.diff(t,t) + b1*x.diff(t) + k1*x , 0 )\n",
        "edo"
      ],
      "execution_count": null,
      "outputs": [
        {
          "output_type": "execute_result",
          "data": {
            "text/latex": "$\\displaystyle 5 x{\\left(t \\right)} + 2 \\frac{d}{d t} x{\\left(t \\right)} + 10 \\frac{d^{2}}{d t^{2}} x{\\left(t \\right)} = 0$",
            "text/plain": [
              "Eq(5*x(t) + 2*Derivative(x(t), t) + 10*Derivative(x(t), (t, 2)), 0)"
            ]
          },
          "metadata": {},
          "execution_count": 262
        }
      ]
    },
    {
      "cell_type": "markdown",
      "metadata": {
        "id": "zwqtPGBeKUAz"
      },
      "source": [
        "Encontrando a solução da EDO"
      ]
    },
    {
      "cell_type": "code",
      "metadata": {
        "colab": {
          "base_uri": "https://localhost:8080/",
          "height": 68
        },
        "id": "hQdwTZNOCNQR",
        "outputId": "01fe312c-9cff-474a-87ad-4bed06754295"
      },
      "source": [
        "xSol = sp.dsolve(edo, func=x, ics=cis)\n",
        "xSol"
      ],
      "execution_count": null,
      "outputs": [
        {
          "output_type": "execute_result",
          "data": {
            "text/latex": "$\\displaystyle x{\\left(t \\right)} = \\left(\\frac{60 \\sin{\\left(\\frac{7 t}{10} \\right)}}{7} + 10 \\cos{\\left(\\frac{7 t}{10} \\right)}\\right) e^{- \\frac{t}{10}}$",
            "text/plain": [
              "Eq(x(t), (60*sin(7*t/10)/7 + 10*cos(7*t/10))*exp(-t/10))"
            ]
          },
          "metadata": {},
          "execution_count": 256
        }
      ]
    },
    {
      "cell_type": "code",
      "metadata": {
        "colab": {
          "base_uri": "https://localhost:8080/",
          "height": 68
        },
        "id": "6wJAwpTNCmgY",
        "outputId": "c8bd85ff-2373-45db-9327-36905025450b"
      },
      "source": [
        "xSolDireita = xSol.args[1]\n",
        "xSolDireita"
      ],
      "execution_count": null,
      "outputs": [
        {
          "output_type": "execute_result",
          "data": {
            "text/latex": "$\\displaystyle \\left(\\frac{60 \\sin{\\left(\\frac{7 t}{10} \\right)}}{7} + 10 \\cos{\\left(\\frac{7 t}{10} \\right)}\\right) e^{- \\frac{t}{10}}$",
            "text/plain": [
              "(60*sin(7*t/10)/7 + 10*cos(7*t/10))*exp(-t/10)"
            ]
          },
          "metadata": {},
          "execution_count": 257
        }
      ]
    },
    {
      "cell_type": "markdown",
      "metadata": {
        "id": "wkdo_galKcpD"
      },
      "source": [
        "Concertendo a expressão numa forma que se possa calucular para fazer o gráfico."
      ]
    },
    {
      "cell_type": "code",
      "metadata": {
        "id": "HkJOdUTmEfgw"
      },
      "source": [
        "solNum = sp.lambdify(t, xSolDireita)"
      ],
      "execution_count": null,
      "outputs": []
    },
    {
      "cell_type": "code",
      "metadata": {
        "colab": {
          "base_uri": "https://localhost:8080/",
          "height": 377
        },
        "id": "x247s0YeFH7l",
        "outputId": "c0e0416a-ca77-47a4-8f35-82bfad5b7bb4"
      },
      "source": [
        "fig = plt.figure(dpi=100, figsize=(16/2.54,10/2.54))\n",
        "ax1 = plt.axes()\n",
        "ax1.set_xlabel(\"$t$\")\n",
        "ax1.set_ylabel(\"$x$\")\n",
        "tt = np.linspace(0,50,1000)\n",
        "ax1.plot(tt,solNum(tt))\n",
        "ax1.grid()"
      ],
      "execution_count": null,
      "outputs": [
        {
          "output_type": "display_data",
          "data": {
            "image/png": "[encoded data removed]",
            "text/plain": [
              "<Figure size 629.921x393.701 with 1 Axes>"
            ]
          },
          "metadata": {
            "needs_background": "light"
          }
        }
      ]
    }
  ]
}