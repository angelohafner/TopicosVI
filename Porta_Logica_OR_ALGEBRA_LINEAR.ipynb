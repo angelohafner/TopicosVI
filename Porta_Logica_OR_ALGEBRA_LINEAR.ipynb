{
  "nbformat": 4,
  "nbformat_minor": 0,
  "metadata": {
    "colab": {
      "provenance": [],
      "collapsed_sections": []
    },
    "kernelspec": {
      "name": "python3",
      "display_name": "Python 3"
    },
    "language_info": {
      "name": "python"
    }
  },
  "cells": [
    {
      "cell_type": "code",
      "execution_count": null,
      "metadata": {
        "id": "CXFJK_kOR1VZ"
      },
      "outputs": [],
      "source": [
        "import numpy as np\n",
        "import matplotlib.pyplot as plt"
      ]
    },
    {
      "cell_type": "code",
      "source": [
        "entradas = np.array([[0,0],[0,1], [1,0], [1,1]])\n",
        "entradas.shape"
      ],
      "metadata": {
        "colab": {
          "base_uri": "https://localhost:8080/"
        },
        "id": "Vf19aOqIR4KY",
        "outputId": "732eda25-5e20-4bd8-e229-38c0d8a269b2"
      },
      "execution_count": null,
      "outputs": [
        {
          "output_type": "execute_result",
          "data": {
            "text/plain": [
              "(4, 2)"
            ]
          },
          "metadata": {},
          "execution_count": 277
        }
      ]
    },
    {
      "cell_type": "code",
      "source": [
        "saidas = np.array([0,0,0,1])\n",
        "saidas.shape"
      ],
      "metadata": {
        "colab": {
          "base_uri": "https://localhost:8080/"
        },
        "id": "Xn0lOMM3SCAE",
        "outputId": "5f2a7169-0d79-482d-96e6-d38b7d37f348"
      },
      "execution_count": null,
      "outputs": [
        {
          "output_type": "execute_result",
          "data": {
            "text/plain": [
              "(4,)"
            ]
          },
          "metadata": {},
          "execution_count": 278
        }
      ]
    },
    {
      "cell_type": "code",
      "source": [
        "pesos = np.array([0., 0.])\n",
        "pesos.shape"
      ],
      "metadata": {
        "colab": {
          "base_uri": "https://localhost:8080/"
        },
        "id": "a30qdxIrShTB",
        "outputId": "2d14a24e-495e-43b6-c3b0-322bd8f4a731"
      },
      "execution_count": null,
      "outputs": [
        {
          "output_type": "execute_result",
          "data": {
            "text/plain": [
              "(2,)"
            ]
          },
          "metadata": {},
          "execution_count": 279
        }
      ]
    },
    {
      "cell_type": "code",
      "source": [
        "taxaAprendizagem = 0.1\n",
        "taxaAprendizagem"
      ],
      "metadata": {
        "colab": {
          "base_uri": "https://localhost:8080/"
        },
        "id": "Xgim3CDlTXnJ",
        "outputId": "ddf75233-27ab-430c-878d-14e41ad238f3"
      },
      "execution_count": null,
      "outputs": [
        {
          "output_type": "execute_result",
          "data": {
            "text/plain": [
              "0.1"
            ]
          },
          "metadata": {},
          "execution_count": 280
        }
      ]
    },
    {
      "cell_type": "markdown",
      "source": [
        "# Função de ativação\n",
        "\n",
        "Agora funcionando para entradas matriciais também."
      ],
      "metadata": {
        "id": "EX_qcKkdzo66"
      }
    },
    {
      "cell_type": "code",
      "source": [
        "def stepFunction(sinapse):\n",
        "    ativacao = np.zeros(len(sinapse))\n",
        "    for k in range(len(sinapse)):\n",
        "        if (sinapse[k] >= 1):\n",
        "            ativacao[k] = 1\n",
        "        else:\n",
        "            ativacao[k] = 0  \n",
        "    return ativacao"
      ],
      "metadata": {
        "id": "6jsTZqTgTWec"
      },
      "execution_count": null,
      "outputs": []
    },
    {
      "cell_type": "code",
      "source": [
        "def Sinapse(entradas, pesos):\n",
        "    variavelIntermediaria = np.dot(entradas, pesos)\n",
        "    return variavelIntermediaria"
      ],
      "metadata": {
        "id": "5IVDZHxqTlOC"
      },
      "execution_count": null,
      "outputs": []
    },
    {
      "cell_type": "markdown",
      "source": [
        "# Programa Principal\n",
        "\n",
        "Aquele que chama as funções `Sinapse`e `stepFunction`.\n"
      ],
      "metadata": {
        "id": "ynNBAOl_zybO"
      }
    },
    {
      "cell_type": "code",
      "source": [
        "epocas = 10\n",
        "erro = np.random.rand(np.size(saidas))\n",
        "evolucaoPesos = np.zeros((epocas, np.size(pesos)))\n",
        "evolucaoErros = np.zeros((epocas, np.size(erro)))\n",
        "erroTotal = 1\n",
        "for k in range(epocas):\n",
        "    saidasCalculadas = stepFunction( Sinapse(entradas, pesos) )\n",
        "    erro  = saidas - saidasCalculadas\n",
        "    pesos = pesos + taxaAprendizagem * entradas.T @ erro \n",
        "    erroTotal = erro @ erro.T\n",
        "    evolucaoPesos[k,:] = pesos\n",
        "    evolucaoErros[k,:] = erro"
      ],
      "metadata": {
        "id": "SGFA1gOEp1fB"
      },
      "execution_count": null,
      "outputs": []
    },
    {
      "cell_type": "markdown",
      "source": [
        "# Gráficos de Saída"
      ],
      "metadata": {
        "id": "pHF0M7jPz9qs"
      }
    },
    {
      "cell_type": "code",
      "source": [
        "fig, ax = plt.subplots(2, 1)\n",
        "fig.set_size_inches(16,9)\n",
        "\n",
        "ax[0].plot(evolucaoPesos[:,0], ls='-', color='blue', lw=4, label='Peso 1')\n",
        "ax[0].plot(evolucaoPesos[:,1], ls='--', color='red', lw=2, label='Peso 2')\n",
        "ax[0].legend()\n",
        "ax[0].grid()\n",
        "ax[0].set_title('Evolução dos Pesos')\n",
        "\n",
        "ax[1].plot(evolucaoErros[:,0], ls='-', color='blue', lw=4, label='Erro 1')\n",
        "ax[1].plot(evolucaoErros[:,1], ls='--', color='red', lw=2, label='Erro 2')\n",
        "ax[1].plot(evolucaoErros[:,2], ls='-.', color='green', lw=1, label='Erro 3')\n",
        "ax[1].plot(evolucaoErros[:,3], ls='--', color='black', lw=2, label='Erro 4')\n",
        "ax[1].legend()\n",
        "ax[1].grid()\n",
        "ax[1].set_title('Evolução dos Erros')\n",
        "fig.show()"
      ],
      "metadata": {
        "colab": {
          "base_uri": "https://localhost:8080/",
          "height": 553
        },
        "id": "OaVCW0zmwwKG",
        "outputId": "d5400c91-05fe-426d-a2f8-11576075c102"
      },
      "execution_count": null,
      "outputs": [
        {
          "output_type": "display_data",
          "data": {
            "text/plain": [
              "<Figure size 1152x648 with 2 Axes>"
            ],
            "image/png": "[encoded data removed]"
          },
          "metadata": {
            "needs_background": "light"
          }
        }
      ]
    }
  ]
}