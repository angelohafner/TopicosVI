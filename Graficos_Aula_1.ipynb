{
  "nbformat": 4,
  "nbformat_minor": 0,
  "metadata": {
    "colab": {
      "name": "Graficos - Aula 1.ipynb",
      "provenance": [],
      "authorship_tag": "ABX9TyNxLeTElP+zLqXx1htTOQUk",
      "include_colab_link": true
    },
    "kernelspec": {
      "name": "python3",
      "display_name": "Python 3"
    },
    "language_info": {
      "name": "python"
    }
  },
  "cells": [
    {
      "cell_type": "markdown",
      "metadata": {
        "id": "view-in-github",
        "colab_type": "text"
      },
      "source": [
        "<a href=\"https://colab.research.google.com/github/angelohafner/GraficosPython/blob/main/Graficos_Aula_1.ipynb\" target=\"_parent\"><img src=\"https://colab.research.google.com/assets/colab-badge.svg\" alt=\"Open In Colab\"/></a>"
      ]
    },
    {
      "cell_type": "markdown",
      "metadata": {
        "id": "Q5bTbAfj_Xzb"
      },
      "source": [
        "# Gráfico de linha simples em Python"
      ]
    },
    {
      "cell_type": "code",
      "metadata": {
        "id": "KU0XQiVi73x0"
      },
      "source": [
        "import numpy as np\n",
        "import matplotlib.pyplot as plt"
      ],
      "execution_count": null,
      "outputs": []
    },
    {
      "cell_type": "markdown",
      "metadata": {
        "id": "iWNaKhAe_SB9"
      },
      "source": [
        "Criando o vetor $x$"
      ]
    },
    {
      "cell_type": "code",
      "metadata": {
        "colab": {
          "base_uri": "https://localhost:8080/"
        },
        "id": "iUNGFjH68W9t",
        "outputId": "9dc8c6b5-425e-47dd-ec6a-4b515395f286"
      },
      "source": [
        "x = np.linspace(-2,2,20)\n",
        "print(x)"
      ],
      "execution_count": null,
      "outputs": [
        {
          "output_type": "stream",
          "name": "stdout",
          "text": [
            "[-2.         -1.78947368 -1.57894737 -1.36842105 -1.15789474 -0.94736842\n",
            " -0.73684211 -0.52631579 -0.31578947 -0.10526316  0.10526316  0.31578947\n",
            "  0.52631579  0.73684211  0.94736842  1.15789474  1.36842105  1.57894737\n",
            "  1.78947368  2.        ]\n"
          ]
        }
      ]
    },
    {
      "cell_type": "code",
      "metadata": {
        "colab": {
          "base_uri": "https://localhost:8080/"
        },
        "id": "-yu5wETm8myB",
        "outputId": "ade8c094-50f8-453b-90ca-2dadf794d296"
      },
      "source": [
        "y = x**2\n",
        "print(y)"
      ],
      "execution_count": null,
      "outputs": [
        {
          "output_type": "stream",
          "name": "stdout",
          "text": [
            "[4.         3.20221607 2.49307479 1.87257618 1.34072022 0.89750693\n",
            " 0.54293629 0.27700831 0.09972299 0.01108033 0.01108033 0.09972299\n",
            " 0.27700831 0.54293629 0.89750693 1.34072022 1.87257618 2.49307479\n",
            " 3.20221607 4.        ]\n"
          ]
        }
      ]
    },
    {
      "cell_type": "markdown",
      "metadata": {
        "id": "M1ZU2f7q_jsz"
      },
      "source": [
        "Depois de calculado $y=x^2$, vamos fazer os gráficos de $x^2$ e $x^3$."
      ]
    },
    {
      "cell_type": "code",
      "metadata": {
        "colab": {
          "base_uri": "https://localhost:8080/",
          "height": 314
        },
        "id": "W0CD9hBr8589",
        "outputId": "134835c3-99ac-463b-a588-fbb320935fa2"
      },
      "source": [
        "plt.plot(x,y,label='$y=x^2$',lw=3)\n",
        "plt.plot(x,y*x,label='$y=x^3$',lw=2)\n",
        "plt.grid()\n",
        "plt.xlabel('eixo $x$ ')\n",
        "plt.ylabel('eixo $y$ ')\n",
        "plt.title('Título do Gráfico')\n",
        "plt.legend()"
      ],
      "execution_count": null,
      "outputs": [
        {
          "output_type": "execute_result",
          "data": {
            "text/plain": [
              "<matplotlib.legend.Legend at 0x7f8b06b45110>"
            ]
          },
          "metadata": {},
          "execution_count": 33
        },
        {
          "output_type": "display_data",
          "data": {
            "image/png": "[encoded data removed]",
            "text/plain": [
              "<Figure size 432x288 with 1 Axes>"
            ]
          },
          "metadata": {
            "needs_background": "light"
          }
        }
      ]
    },
    {
      "cell_type": "code",
      "metadata": {
        "id": "6ui-BmdR9EFT"
      },
      "source": [
        ""
      ],
      "execution_count": null,
      "outputs": []
    }
  ]
}