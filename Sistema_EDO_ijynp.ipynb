{
  "nbformat": 4,
  "nbformat_minor": 0,
  "metadata": {
    "colab": {
      "name": "Sistema EDO.ijynp",
      "provenance": [],
      "collapsed_sections": []
    },
    "kernelspec": {
      "name": "python3",
      "display_name": "Python 3"
    },
    "language_info": {
      "name": "python"
    }
  },
  "cells": [
    {
      "cell_type": "code",
      "execution_count": 1,
      "metadata": {
        "id": "8QG9tiFhBgjS"
      },
      "outputs": [],
      "source": [
        "import sympy as sp\n",
        "import numpy as np\n",
        "import matplotlib.pyplot as plt"
      ]
    },
    {
      "cell_type": "code",
      "source": [
        "T = sp.Matrix([[-10,-20],\n",
        "               [5,-1]])\n",
        "\n",
        "ordem = T.shape\n",
        "T"
      ],
      "metadata": {
        "colab": {
          "base_uri": "https://localhost:8080/",
          "height": 58
        },
        "id": "x857pG8aGMEn",
        "outputId": "28f2917d-b515-4274-db71-212b32f9d270"
      },
      "execution_count": 2,
      "outputs": [
        {
          "output_type": "execute_result",
          "data": {
            "text/plain": [
              "Matrix([\n",
              "[-10, -20],\n",
              "[  5,  -1]])"
            ],
            "text/latex": "$\\displaystyle \\left[\\begin{matrix}-10 & -20\\\\5 & -1\\end{matrix}\\right]$"
          },
          "metadata": {},
          "execution_count": 2
        }
      ]
    },
    {
      "cell_type": "code",
      "source": [
        "P, D = T.diagonalize()"
      ],
      "metadata": {
        "id": "-fyAopuuvrhW"
      },
      "execution_count": 3,
      "outputs": []
    },
    {
      "cell_type": "code",
      "source": [
        "t, c1, c2 = sp.symbols('t c_1 c_2')"
      ],
      "metadata": {
        "id": "zNTeJXZtPJIH"
      },
      "execution_count": 4,
      "outputs": []
    },
    {
      "cell_type": "code",
      "source": [
        "#M = sp.Matrix(3, 2, lambda i,j:sympy.var('M_%d%d' % (i+1,j+1)))\n",
        "C = sp.Matrix([c1, c2])\n"
      ],
      "metadata": {
        "id": "ST15JHjEzvHz"
      },
      "execution_count": 5,
      "outputs": []
    },
    {
      "cell_type": "code",
      "source": [
        "DD = D * t\n",
        "Y = DD.exp()\n",
        "Y = sp.MatMul(Y, C)\n",
        "Y"
      ],
      "metadata": {
        "colab": {
          "base_uri": "https://localhost:8080/",
          "height": 78
        },
        "id": "yRFopgPQISbF",
        "outputId": "78772da7-a871-466c-e250-a62a77884b83"
      },
      "execution_count": 6,
      "outputs": [
        {
          "output_type": "execute_result",
          "data": {
            "text/plain": [
              "Matrix([\n",
              "[exp(t*(-11/2 - sqrt(319)*I/2)),                              0],\n",
              "[                             0, exp(t*(-11/2 + sqrt(319)*I/2))]])*Matrix([\n",
              "[c_1],\n",
              "[c_2]])"
            ],
            "text/latex": "$\\displaystyle \\left[\\begin{matrix}e^{t \\left(- \\frac{11}{2} - \\frac{\\sqrt{319} i}{2}\\right)} & 0\\\\0 & e^{t \\left(- \\frac{11}{2} + \\frac{\\sqrt{319} i}{2}\\right)}\\end{matrix}\\right] \\left[\\begin{matrix}c_{1}\\\\c_{2}\\end{matrix}\\right]$"
          },
          "metadata": {},
          "execution_count": 6
        }
      ]
    },
    {
      "cell_type": "code",
      "source": [
        "X = P*Y\n",
        "X"
      ],
      "metadata": {
        "colab": {
          "base_uri": "https://localhost:8080/",
          "height": 78
        },
        "id": "R_l7zk5dPi0O",
        "outputId": "9d222a30-73da-4aca-fcdf-f833275ec1a9"
      },
      "execution_count": 7,
      "outputs": [
        {
          "output_type": "execute_result",
          "data": {
            "text/plain": [
              "Matrix([\n",
              "[c_1*(-9/10 - sqrt(319)*I/10)*exp(t*(-11/2 - sqrt(319)*I/2)) + c_2*(-9/10 + sqrt(319)*I/10)*exp(t*(-11/2 + sqrt(319)*I/2))],\n",
              "[                                                  c_1*exp(t*(-11/2 - sqrt(319)*I/2)) + c_2*exp(t*(-11/2 + sqrt(319)*I/2))]])"
            ],
            "text/latex": "$\\displaystyle \\left[\\begin{matrix}c_{1} \\left(- \\frac{9}{10} - \\frac{\\sqrt{319} i}{10}\\right) e^{t \\left(- \\frac{11}{2} - \\frac{\\sqrt{319} i}{2}\\right)} + c_{2} \\left(- \\frac{9}{10} + \\frac{\\sqrt{319} i}{10}\\right) e^{t \\left(- \\frac{11}{2} + \\frac{\\sqrt{319} i}{2}\\right)}\\\\c_{1} e^{t \\left(- \\frac{11}{2} - \\frac{\\sqrt{319} i}{2}\\right)} + c_{2} e^{t \\left(- \\frac{11}{2} + \\frac{\\sqrt{319} i}{2}\\right)}\\end{matrix}\\right]$"
          },
          "metadata": {},
          "execution_count": 7
        }
      ]
    },
    {
      "cell_type": "code",
      "source": [
        "x1_0 = 10\n",
        "x2_0 = 5\n",
        "CI = sp.Matrix([[5],\n",
        "                [10]])\n",
        "CI"
      ],
      "metadata": {
        "colab": {
          "base_uri": "https://localhost:8080/",
          "height": 58
        },
        "id": "QBsSE7QuT7_K",
        "outputId": "316b70ea-1a21-4846-d63a-fbfc2f5b4d9b"
      },
      "execution_count": 8,
      "outputs": [
        {
          "output_type": "execute_result",
          "data": {
            "text/plain": [
              "Matrix([\n",
              "[ 5],\n",
              "[10]])"
            ],
            "text/latex": "$\\displaystyle \\left[\\begin{matrix}5\\\\10\\end{matrix}\\right]$"
          },
          "metadata": {},
          "execution_count": 8
        }
      ]
    },
    {
      "cell_type": "code",
      "source": [
        "eq1 = sp.Eq(X.subs(t, 0), CI)\n",
        "eq1"
      ],
      "metadata": {
        "colab": {
          "base_uri": "https://localhost:8080/",
          "height": 68
        },
        "id": "4IrBJBbfQLyH",
        "outputId": "a9e8dbbe-92d9-41b0-b6be-3b2a696ba873"
      },
      "execution_count": 9,
      "outputs": [
        {
          "output_type": "execute_result",
          "data": {
            "text/plain": [
              "Eq(Matrix([\n",
              "[c_1*(-9/10 - sqrt(319)*I/10) + c_2*(-9/10 + sqrt(319)*I/10)],\n",
              "[                                                  c_1 + c_2]]), Matrix([\n",
              "[ 5],\n",
              "[10]]))"
            ],
            "text/latex": "$\\displaystyle \\left[\\begin{matrix}c_{1} \\left(- \\frac{9}{10} - \\frac{\\sqrt{319} i}{10}\\right) + c_{2} \\left(- \\frac{9}{10} + \\frac{\\sqrt{319} i}{10}\\right)\\\\c_{1} + c_{2}\\end{matrix}\\right] = \\left[\\begin{matrix}5\\\\10\\end{matrix}\\right]$"
          },
          "metadata": {},
          "execution_count": 9
        }
      ]
    },
    {
      "cell_type": "code",
      "source": [
        "CC = sp.solve( eq1, sp.Matrix([[c1],[c2]]) )\n",
        "CC"
      ],
      "metadata": {
        "colab": {
          "base_uri": "https://localhost:8080/"
        },
        "id": "misF1s3_UmEi",
        "outputId": "1abdd076-0df2-4f0d-d1d2-b06500a66278"
      },
      "execution_count": 10,
      "outputs": [
        {
          "output_type": "execute_result",
          "data": {
            "text/plain": [
              "{c_1: 5 + 70*sqrt(319)*I/319, c_2: 5 - 70*sqrt(319)*I/319}"
            ]
          },
          "metadata": {},
          "execution_count": 10
        }
      ]
    },
    {
      "cell_type": "code",
      "source": [
        "const1 = CC[c1]\n",
        "const1"
      ],
      "metadata": {
        "colab": {
          "base_uri": "https://localhost:8080/",
          "height": 55
        },
        "id": "WSpChVrAVSgq",
        "outputId": "0f10126a-91dc-4b87-dd4a-617fdc615c6e"
      },
      "execution_count": 11,
      "outputs": [
        {
          "output_type": "execute_result",
          "data": {
            "text/plain": [
              "5 + 70*sqrt(319)*I/319"
            ],
            "text/latex": "$\\displaystyle 5 + \\frac{70 \\sqrt{319} i}{319}$"
          },
          "metadata": {},
          "execution_count": 11
        }
      ]
    },
    {
      "cell_type": "code",
      "source": [
        "const2 = CC[c2]\n",
        "const2"
      ],
      "metadata": {
        "colab": {
          "base_uri": "https://localhost:8080/",
          "height": 55
        },
        "id": "jIA2KYVSWYpi",
        "outputId": "488fc1a8-b828-49a4-bf07-535105046453"
      },
      "execution_count": 12,
      "outputs": [
        {
          "output_type": "execute_result",
          "data": {
            "text/plain": [
              "5 - 70*sqrt(319)*I/319"
            ],
            "text/latex": "$\\displaystyle 5 - \\frac{70 \\sqrt{319} i}{319}$"
          },
          "metadata": {},
          "execution_count": 12
        }
      ]
    },
    {
      "cell_type": "code",
      "source": [
        "fx1 = sp.lambdify(t, x1.subs(c1, const1).subs(c2, const2))\n",
        "fx2 = sp.lambdify(t, x2.subs(c1, const1).subs(c2, const2))"
      ],
      "metadata": {
        "id": "FT5ChBpGQT6e",
        "colab": {
          "base_uri": "https://localhost:8080/",
          "height": 190
        },
        "outputId": "02af4fb6-01ba-4278-9391-a8c6394c48c2"
      },
      "execution_count": 13,
      "outputs": [
        {
          "output_type": "error",
          "ename": "NameError",
          "evalue": "ignored",
          "traceback": [
            "\u001b[0;31m---------------------------------------------------------------------------\u001b[0m",
            "\u001b[0;31mNameError\u001b[0m                                 Traceback (most recent call last)",
            "\u001b[0;32m<ipython-input-13-fa5c019165a6>\u001b[0m in \u001b[0;36m<module>\u001b[0;34m()\u001b[0m\n\u001b[0;32m----> 1\u001b[0;31m \u001b[0mfx1\u001b[0m \u001b[0;34m=\u001b[0m \u001b[0msp\u001b[0m\u001b[0;34m.\u001b[0m\u001b[0mlambdify\u001b[0m\u001b[0;34m(\u001b[0m\u001b[0mt\u001b[0m\u001b[0;34m,\u001b[0m \u001b[0mx1\u001b[0m\u001b[0;34m.\u001b[0m\u001b[0msubs\u001b[0m\u001b[0;34m(\u001b[0m\u001b[0mc1\u001b[0m\u001b[0;34m,\u001b[0m \u001b[0mconst1\u001b[0m\u001b[0;34m)\u001b[0m\u001b[0;34m.\u001b[0m\u001b[0msubs\u001b[0m\u001b[0;34m(\u001b[0m\u001b[0mc2\u001b[0m\u001b[0;34m,\u001b[0m \u001b[0mconst2\u001b[0m\u001b[0;34m)\u001b[0m\u001b[0;34m)\u001b[0m\u001b[0;34m\u001b[0m\u001b[0;34m\u001b[0m\u001b[0m\n\u001b[0m\u001b[1;32m      2\u001b[0m \u001b[0mfx2\u001b[0m \u001b[0;34m=\u001b[0m \u001b[0msp\u001b[0m\u001b[0;34m.\u001b[0m\u001b[0mlambdify\u001b[0m\u001b[0;34m(\u001b[0m\u001b[0mt\u001b[0m\u001b[0;34m,\u001b[0m \u001b[0mx2\u001b[0m\u001b[0;34m.\u001b[0m\u001b[0msubs\u001b[0m\u001b[0;34m(\u001b[0m\u001b[0mc1\u001b[0m\u001b[0;34m,\u001b[0m \u001b[0mconst1\u001b[0m\u001b[0;34m)\u001b[0m\u001b[0;34m.\u001b[0m\u001b[0msubs\u001b[0m\u001b[0;34m(\u001b[0m\u001b[0mc2\u001b[0m\u001b[0;34m,\u001b[0m \u001b[0mconst2\u001b[0m\u001b[0;34m)\u001b[0m\u001b[0;34m)\u001b[0m\u001b[0;34m\u001b[0m\u001b[0;34m\u001b[0m\u001b[0m\n",
            "\u001b[0;31mNameError\u001b[0m: name 'x1' is not defined"
          ]
        }
      ]
    },
    {
      "cell_type": "code",
      "source": [
        "t_num = np.linspace(0, 1.5, 1000)\n",
        "corrente = np.real(fx1(t_num))\n",
        "rotacao = np.real(fx2(t_num))"
      ],
      "metadata": {
        "id": "sriNfq0AQa6W"
      },
      "execution_count": null,
      "outputs": []
    },
    {
      "cell_type": "code",
      "source": [
        "plt.plot(t_num, corrente, label=\"corrente [A]\")\n",
        "plt.plot(t_num, rotacao, label=\"rotação[rad/s]\")\n",
        "plt.legend()\n",
        "plt.show()"
      ],
      "metadata": {
        "id": "qJhggZFZ6SG9"
      },
      "execution_count": null,
      "outputs": []
    },
    {
      "cell_type": "code",
      "source": [
        "plt.plot(corrente, rotacao)\n",
        "plt.xlabel(\"Corrente [A]\")\n",
        "plt.ylabel(\"Rotação [rad/s]\")\n",
        "plt.show()"
      ],
      "metadata": {
        "id": "JnsGHPN5RVA8"
      },
      "execution_count": null,
      "outputs": []
    }
  ]
}